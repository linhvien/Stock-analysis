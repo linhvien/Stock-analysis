{
  "nbformat": 4,
  "nbformat_minor": 0,
  "metadata": {
    "colab": {
      "name": "Vietnamese stock analysis.ipynb",
      "provenance": [],
      "collapsed_sections": [],
      "toc_visible": true,
      "authorship_tag": "ABX9TyOK8WeT9L1u4E1d2v2oKJna",
      "include_colab_link": true
    },
    "kernelspec": {
      "name": "python3",
      "display_name": "Python 3"
    },
    "language_info": {
      "name": "python"
    }
  },
  "cells": [
    {
      "cell_type": "markdown",
      "metadata": {
        "id": "view-in-github",
        "colab_type": "text"
      },
      "source": [
        "<a href=\"https://colab.research.google.com/github/linhvien/Stock-analysis/blob/main/Vietnamese_stock_analysis.ipynb\" target=\"_parent\"><img src=\"https://colab.research.google.com/assets/colab-badge.svg\" alt=\"Open In Colab\"/></a>"
      ]
    },
    {
      "cell_type": "markdown",
      "metadata": {
        "id": "RaOfwLN1sI0i"
      },
      "source": [
        "#Import libraries"
      ]
    },
    {
      "cell_type": "code",
      "metadata": {
        "id": "1_6R9EvjsIU6"
      },
      "source": [
        "from bs4 import BeautifulSoup as bs\n",
        "import requests\n",
        "\n",
        "import re\n",
        "import json\n",
        "import csv\n",
        "from io import StringIO\n",
        "from datetime import datetime, timedelta\n",
        "import time\n",
        "\n",
        "import pandas as pd\n",
        "import numpy as np\n",
        "import matplotlib.pyplot as plt"
      ],
      "execution_count": 1,
      "outputs": []
    },
    {
      "cell_type": "markdown",
      "metadata": {
        "id": "usO_jAS6sMF5"
      },
      "source": [
        "#Overview"
      ]
    },
    {
      "cell_type": "code",
      "metadata": {
        "id": "IvuXybeOr2rV"
      },
      "source": [
        "start_date = '2019-01-01'\n",
        "end_date = str(datetime.now().strftime('%Y-%m-%d'))\n",
        "stock = 'VTV'\n",
        "portfolio = ''\n",
        "headers = {'User-Agent': 'Mozilla/5.0 (Windows NT 10.0; Win64; x64) AppleWebKit/537.36 (KHTML, like Gecko) Chrome/71.0.3578.98 Safari/537.36'}"
      ],
      "execution_count": 28,
      "outputs": []
    },
    {
      "cell_type": "markdown",
      "metadata": {
        "id": "V_joYeR9qr0s"
      },
      "source": [
        "#Financial data"
      ]
    },
    {
      "cell_type": "markdown",
      "metadata": {
        "id": "hhE2WvSLqy6y"
      },
      "source": [
        "Loading financial data of Vietnamese stocks from api vndirect"
      ]
    },
    {
      "cell_type": "code",
      "metadata": {
        "id": "ZcYvDoCpqycz"
      },
      "source": [
        "class Financialdata:\n",
        "  url_BS = 'https://finfo-api.vndirect.com.vn/v3/stocks/financialStatement?secCodes={}&reportTypes=QUARTER&modelTypes=1,89,101,411&fromDate={}&toDate={}'\n",
        "  url_IS = 'https://finfo-api.vndirect.com.vn/v3/stocks/financialStatement?secCodes={}&reportTypes=QUARTER&modelTypes=2,90,102,412&fromDate={}&toDate={}'\n",
        "  url_CF = 'https://finfo-api.vndirect.com.vn/v3/stocks/financialStatement?secCodes={}&reportTypes=QUARTER&modelTypes=3,91,103,413&fromDate={}&toDate={}'\n",
        "  url_ratio = 'https://finfo-api.vndirect.com.vn/v4/ratios?q=code:{}~itemCode:53030,52005,51050,53021,52001,52002,54018,712010,712020,712030,712040~reportDate:{}'\n",
        "  \n",
        "  def __init__(self,stock,start_date,end_date,*arg, **karg):\n",
        "    self.stock = stock\n",
        "    self.start_date = start_date\n",
        "    self.end_date = end_date\n",
        "    self.session = requests.Session()\n",
        "\n",
        "# Get balance sheet\n",
        "  def get_BS(self):\n",
        "    page = self.session.get(self.url_BS.format(self.stock,self.start_date,self.end_date), headers=headers)\n",
        "    data = page.json()\n",
        "\n",
        "    data_dates = {}\n",
        "    for item in data['data']['hits']:\n",
        "      item = item['_source']\n",
        "      date = item['fiscalDate']\n",
        "      itemName = item['itemName']\n",
        "      numericValue = item['numericValue']\n",
        "      if date not in data_dates:\n",
        "        data_dates[date] = [[], []]\n",
        "      else:\n",
        "        if itemName not in data_dates[date][0]:\n",
        "          data_dates[date][0].append(itemName)\n",
        "          data_dates[date][1].append(numericValue)\n",
        "\n",
        "    for i, (date, item) in enumerate(data_dates.items()):\n",
        "      df_date = pd.DataFrame(data={'index':item[0], date[:7]:item[1]})\n",
        "      if i == 0:\n",
        "        df = df_date\n",
        "      else:\n",
        "        df = pd.merge(df, df_date, how='inner')\n",
        "    return df\n",
        "\n",
        "# get income statement\n",
        "  def get_IS(self):\n",
        "    page = self.session.get(self.url_IS.format(self.stock,self.start_date,self.end_date), headers=headers)\n",
        "    data = page.json()\n",
        "\n",
        "    data_dates = {}\n",
        "    for item in data['data']['hits']:\n",
        "      item = item['_source']\n",
        "      date = item['fiscalDate']\n",
        "      itemName = item['itemName']\n",
        "      numericValue = item['numericValue']\n",
        "      if date not in data_dates:\n",
        "        data_dates[date] = [[], []]\n",
        "      else:\n",
        "        if itemName not in data_dates[date][0]:\n",
        "          data_dates[date][0].append(itemName)\n",
        "          data_dates[date][1].append(numericValue)\n",
        "\n",
        "    for i, (date, item) in enumerate(data_dates.items()):\n",
        "      df_date = pd.DataFrame(data={'index':item[0], date[:7]:item[1]})\n",
        "      if i == 0:\n",
        "        df = df_date\n",
        "      else:\n",
        "        df = pd.merge(df, df_date, how='inner')\n",
        "    return df\n",
        "\n",
        "# get cashflow statement\n",
        "  def get_CF(self):\n",
        "    page = self.session.get(self.url_CF.format(self.stock,self.start_date,self.end_date), headers=headers)\n",
        "    data = page.json()\n",
        "\n",
        "    data_dates = {}\n",
        "    for item in data['data']['hits']:\n",
        "      item = item['_source']\n",
        "      date = item['fiscalDate']\n",
        "      itemName = item['itemName']\n",
        "      numericValue = item['numericValue']\n",
        "      if date not in data_dates:\n",
        "        data_dates[date] = [[], []]\n",
        "      else:\n",
        "        if itemName not in data_dates[date][0]:\n",
        "          data_dates[date][0].append(itemName)\n",
        "          data_dates[date][1].append(numericValue)\n",
        "\n",
        "    for i, (date, item) in enumerate(data_dates.items()):\n",
        "      df_date = pd.DataFrame(data={'index':item[0], date[:7]:item[1]})\n",
        "      if i == 0:\n",
        "        df = df_date\n",
        "      else:\n",
        "        df = pd.merge(df, df_date, how='inner')\n",
        "    return df"
      ],
      "execution_count": 3,
      "outputs": []
    },
    {
      "cell_type": "code",
      "metadata": {
        "colab": {
          "base_uri": "https://localhost:8080/",
          "height": 530
        },
        "id": "J_kPPTBjqJbK",
        "outputId": "700a4d50-43e7-4c03-9f2a-543675123eca"
      },
      "source": [
        "BS_data = Financialdata(stock,start_date,end_date).get_BS()\n",
        "BS_data.to_csv(r'BS_{}.csv'.format(stock),index=False)\n",
        "BS_data.head()"
      ],
      "execution_count": 4,
      "outputs": [
        {
          "output_type": "execute_result",
          "data": {
            "text/html": [
              "<div>\n",
              "<style scoped>\n",
              "    .dataframe tbody tr th:only-of-type {\n",
              "        vertical-align: middle;\n",
              "    }\n",
              "\n",
              "    .dataframe tbody tr th {\n",
              "        vertical-align: top;\n",
              "    }\n",
              "\n",
              "    .dataframe thead th {\n",
              "        text-align: right;\n",
              "    }\n",
              "</style>\n",
              "<table border=\"1\" class=\"dataframe\">\n",
              "  <thead>\n",
              "    <tr style=\"text-align: right;\">\n",
              "      <th></th>\n",
              "      <th>index</th>\n",
              "      <th>2021-06</th>\n",
              "      <th>2021-03</th>\n",
              "      <th>2020-12</th>\n",
              "      <th>2020-09</th>\n",
              "      <th>2020-06</th>\n",
              "      <th>2020-03</th>\n",
              "      <th>2019-12</th>\n",
              "      <th>2019-09</th>\n",
              "      <th>2019-06</th>\n",
              "      <th>2019-03</th>\n",
              "    </tr>\n",
              "  </thead>\n",
              "  <tbody>\n",
              "    <tr>\n",
              "      <th>0</th>\n",
              "      <td>Tiền và các khoản tương đương tiền</td>\n",
              "      <td>5624321231</td>\n",
              "      <td>3392269125</td>\n",
              "      <td>4595655269</td>\n",
              "      <td>18739125449</td>\n",
              "      <td>40099874588</td>\n",
              "      <td>49918374688</td>\n",
              "      <td>40964841863</td>\n",
              "      <td>11832161341</td>\n",
              "      <td>31923108344</td>\n",
              "      <td>31147125910</td>\n",
              "    </tr>\n",
              "    <tr>\n",
              "      <th>1</th>\n",
              "      <td>Tiền</td>\n",
              "      <td>5624321231</td>\n",
              "      <td>3392269125</td>\n",
              "      <td>4595655269</td>\n",
              "      <td>18739125449</td>\n",
              "      <td>40099874588</td>\n",
              "      <td>49918374688</td>\n",
              "      <td>40964841863</td>\n",
              "      <td>11832161341</td>\n",
              "      <td>31923108344</td>\n",
              "      <td>31147125910</td>\n",
              "    </tr>\n",
              "    <tr>\n",
              "      <th>2</th>\n",
              "      <td>Các khoản tương đương tiền</td>\n",
              "      <td>0</td>\n",
              "      <td>0</td>\n",
              "      <td>0</td>\n",
              "      <td>0</td>\n",
              "      <td>0</td>\n",
              "      <td>0</td>\n",
              "      <td>0</td>\n",
              "      <td>0</td>\n",
              "      <td>0</td>\n",
              "      <td>0</td>\n",
              "    </tr>\n",
              "    <tr>\n",
              "      <th>3</th>\n",
              "      <td>Các khoản đầu tư tài chính ngắn hạn</td>\n",
              "      <td>0</td>\n",
              "      <td>0</td>\n",
              "      <td>0</td>\n",
              "      <td>0</td>\n",
              "      <td>0</td>\n",
              "      <td>0</td>\n",
              "      <td>0</td>\n",
              "      <td>0</td>\n",
              "      <td>0</td>\n",
              "      <td>0</td>\n",
              "    </tr>\n",
              "    <tr>\n",
              "      <th>4</th>\n",
              "      <td>Đầu tư ngắn hạn</td>\n",
              "      <td>0</td>\n",
              "      <td>0</td>\n",
              "      <td>0</td>\n",
              "      <td>0</td>\n",
              "      <td>0</td>\n",
              "      <td>0</td>\n",
              "      <td>0</td>\n",
              "      <td>0</td>\n",
              "      <td>0</td>\n",
              "      <td>0</td>\n",
              "    </tr>\n",
              "  </tbody>\n",
              "</table>\n",
              "</div>"
            ],
            "text/plain": [
              "                                 index     2021-06  ...      2019-06      2019-03\n",
              "0   Tiền và các khoản tương đương tiền  5624321231  ...  31923108344  31147125910\n",
              "1                                 Tiền  5624321231  ...  31923108344  31147125910\n",
              "2           Các khoản tương đương tiền           0  ...            0            0\n",
              "3  Các khoản đầu tư tài chính ngắn hạn           0  ...            0            0\n",
              "4                      Đầu tư ngắn hạn           0  ...            0            0\n",
              "\n",
              "[5 rows x 11 columns]"
            ]
          },
          "metadata": {},
          "execution_count": 4
        }
      ]
    },
    {
      "cell_type": "code",
      "metadata": {
        "colab": {
          "base_uri": "https://localhost:8080/",
          "height": 513
        },
        "id": "oX5xNs7DWcI6",
        "outputId": "e0c3ac43-3de8-4bad-d50c-290defc42f38"
      },
      "source": [
        "IS_data = Financialdata(stock,start_date,end_date).get_IS()\n",
        "IS_data.to_csv(r'IS_{}.csv'.format(stock),index=False)\n",
        "IS_data.head()"
      ],
      "execution_count": 5,
      "outputs": [
        {
          "output_type": "execute_result",
          "data": {
            "text/html": [
              "<div>\n",
              "<style scoped>\n",
              "    .dataframe tbody tr th:only-of-type {\n",
              "        vertical-align: middle;\n",
              "    }\n",
              "\n",
              "    .dataframe tbody tr th {\n",
              "        vertical-align: top;\n",
              "    }\n",
              "\n",
              "    .dataframe thead th {\n",
              "        text-align: right;\n",
              "    }\n",
              "</style>\n",
              "<table border=\"1\" class=\"dataframe\">\n",
              "  <thead>\n",
              "    <tr style=\"text-align: right;\">\n",
              "      <th></th>\n",
              "      <th>index</th>\n",
              "      <th>2021-06</th>\n",
              "      <th>2021-03</th>\n",
              "      <th>2020-12</th>\n",
              "      <th>2020-09</th>\n",
              "      <th>2020-06</th>\n",
              "      <th>2020-03</th>\n",
              "      <th>2019-12</th>\n",
              "      <th>2019-09</th>\n",
              "      <th>2019-06</th>\n",
              "      <th>2019-03</th>\n",
              "    </tr>\n",
              "  </thead>\n",
              "  <tbody>\n",
              "    <tr>\n",
              "      <th>0</th>\n",
              "      <td>Các khoản giảm trừ doanh thu</td>\n",
              "      <td>0</td>\n",
              "      <td>0</td>\n",
              "      <td>0</td>\n",
              "      <td>0</td>\n",
              "      <td>0</td>\n",
              "      <td>0</td>\n",
              "      <td>0</td>\n",
              "      <td>0</td>\n",
              "      <td>0</td>\n",
              "      <td>0</td>\n",
              "    </tr>\n",
              "    <tr>\n",
              "      <th>1</th>\n",
              "      <td>Doanh thu thuần</td>\n",
              "      <td>425469768708</td>\n",
              "      <td>356264901421</td>\n",
              "      <td>370102279537</td>\n",
              "      <td>358533856670</td>\n",
              "      <td>434745576917</td>\n",
              "      <td>337824896375</td>\n",
              "      <td>357393361441</td>\n",
              "      <td>516162708757</td>\n",
              "      <td>655680181772</td>\n",
              "      <td>640366355992</td>\n",
              "    </tr>\n",
              "    <tr>\n",
              "      <th>2</th>\n",
              "      <td>Giá vốn hàng bán</td>\n",
              "      <td>383290354050</td>\n",
              "      <td>319040167298</td>\n",
              "      <td>327743142961</td>\n",
              "      <td>323785192414</td>\n",
              "      <td>390605150840</td>\n",
              "      <td>300460217125</td>\n",
              "      <td>311738741888</td>\n",
              "      <td>456010741724</td>\n",
              "      <td>581196053338</td>\n",
              "      <td>565436557458</td>\n",
              "    </tr>\n",
              "    <tr>\n",
              "      <th>3</th>\n",
              "      <td>Lợi nhuận gộp</td>\n",
              "      <td>42179414658</td>\n",
              "      <td>37224734123</td>\n",
              "      <td>42359136576</td>\n",
              "      <td>34748664256</td>\n",
              "      <td>44140426077</td>\n",
              "      <td>37364679250</td>\n",
              "      <td>45654619553</td>\n",
              "      <td>60151967033</td>\n",
              "      <td>74484128434</td>\n",
              "      <td>74929798534</td>\n",
              "    </tr>\n",
              "    <tr>\n",
              "      <th>4</th>\n",
              "      <td>Doanh thu hoạt động tài chính</td>\n",
              "      <td>257154952</td>\n",
              "      <td>2424112</td>\n",
              "      <td>3119604</td>\n",
              "      <td>4804990</td>\n",
              "      <td>1640005940</td>\n",
              "      <td>48569556</td>\n",
              "      <td>121664735</td>\n",
              "      <td>355082983</td>\n",
              "      <td>267475917</td>\n",
              "      <td>274366328</td>\n",
              "    </tr>\n",
              "  </tbody>\n",
              "</table>\n",
              "</div>"
            ],
            "text/plain": [
              "                           index       2021-06  ...       2019-06       2019-03\n",
              "0   Các khoản giảm trừ doanh thu             0  ...             0             0\n",
              "1                Doanh thu thuần  425469768708  ...  655680181772  640366355992\n",
              "2               Giá vốn hàng bán  383290354050  ...  581196053338  565436557458\n",
              "3                  Lợi nhuận gộp   42179414658  ...   74484128434   74929798534\n",
              "4  Doanh thu hoạt động tài chính     257154952  ...     267475917     274366328\n",
              "\n",
              "[5 rows x 11 columns]"
            ]
          },
          "metadata": {},
          "execution_count": 5
        }
      ]
    },
    {
      "cell_type": "code",
      "metadata": {
        "colab": {
          "base_uri": "https://localhost:8080/",
          "height": 700
        },
        "id": "c_0eKD8ZWmdv",
        "outputId": "0f12bce2-3200-46d8-a9a3-736077bf927d"
      },
      "source": [
        "CF_data = Financialdata(stock,start_date,end_date).get_CF()\n",
        "CF_data.to_csv(r'CF_{}.csv'.format(stock),index=False)\n",
        "CF_data.head()"
      ],
      "execution_count": 6,
      "outputs": [
        {
          "output_type": "execute_result",
          "data": {
            "text/html": [
              "<div>\n",
              "<style scoped>\n",
              "    .dataframe tbody tr th:only-of-type {\n",
              "        vertical-align: middle;\n",
              "    }\n",
              "\n",
              "    .dataframe tbody tr th {\n",
              "        vertical-align: top;\n",
              "    }\n",
              "\n",
              "    .dataframe thead th {\n",
              "        text-align: right;\n",
              "    }\n",
              "</style>\n",
              "<table border=\"1\" class=\"dataframe\">\n",
              "  <thead>\n",
              "    <tr style=\"text-align: right;\">\n",
              "      <th></th>\n",
              "      <th>index</th>\n",
              "      <th>2021-06</th>\n",
              "      <th>2021-03</th>\n",
              "      <th>2020-12</th>\n",
              "      <th>2020-09</th>\n",
              "      <th>2020-06</th>\n",
              "      <th>2020-03</th>\n",
              "      <th>2019-12</th>\n",
              "      <th>2019-09</th>\n",
              "      <th>2019-06</th>\n",
              "      <th>2019-03</th>\n",
              "    </tr>\n",
              "  </thead>\n",
              "  <tbody>\n",
              "    <tr>\n",
              "      <th>0</th>\n",
              "      <td>Chi phí khấu hao tài sản cố định</td>\n",
              "      <td>3031474297</td>\n",
              "      <td>3033645507</td>\n",
              "      <td>3033277726</td>\n",
              "      <td>3046833295</td>\n",
              "      <td>3060036210</td>\n",
              "      <td>3063586821</td>\n",
              "      <td>2868758280</td>\n",
              "      <td>2917196588</td>\n",
              "      <td>2984545577</td>\n",
              "      <td>2541628920</td>\n",
              "    </tr>\n",
              "    <tr>\n",
              "      <th>1</th>\n",
              "      <td>Phân bổ lợi thế thương mại</td>\n",
              "      <td>0</td>\n",
              "      <td>0</td>\n",
              "      <td>0</td>\n",
              "      <td>0</td>\n",
              "      <td>0</td>\n",
              "      <td>0</td>\n",
              "      <td>0</td>\n",
              "      <td>0</td>\n",
              "      <td>0</td>\n",
              "      <td>0</td>\n",
              "    </tr>\n",
              "    <tr>\n",
              "      <th>2</th>\n",
              "      <td>Dự phòng giảm giá các khoản đầu tư ngắn hạn, d...</td>\n",
              "      <td>0</td>\n",
              "      <td>0</td>\n",
              "      <td>0</td>\n",
              "      <td>0</td>\n",
              "      <td>0</td>\n",
              "      <td>0</td>\n",
              "      <td>0</td>\n",
              "      <td>0</td>\n",
              "      <td>0</td>\n",
              "      <td>0</td>\n",
              "    </tr>\n",
              "    <tr>\n",
              "      <th>3</th>\n",
              "      <td>Lãi, lỗ chênh lệch tỷ giá hối đoái chưa thực hiện</td>\n",
              "      <td>0</td>\n",
              "      <td>0</td>\n",
              "      <td>0</td>\n",
              "      <td>0</td>\n",
              "      <td>0</td>\n",
              "      <td>0</td>\n",
              "      <td>-1303130</td>\n",
              "      <td>2710752</td>\n",
              "      <td>-1667431</td>\n",
              "      <td>259809</td>\n",
              "    </tr>\n",
              "    <tr>\n",
              "      <th>4</th>\n",
              "      <td>Lãi/(lỗ) từ thanh lý tài sản cố định</td>\n",
              "      <td>0</td>\n",
              "      <td>0</td>\n",
              "      <td>0</td>\n",
              "      <td>0</td>\n",
              "      <td>0</td>\n",
              "      <td>0</td>\n",
              "      <td>0</td>\n",
              "      <td>0</td>\n",
              "      <td>0</td>\n",
              "      <td>0</td>\n",
              "    </tr>\n",
              "  </tbody>\n",
              "</table>\n",
              "</div>"
            ],
            "text/plain": [
              "                                               index  ...     2019-03\n",
              "0                   Chi phí khấu hao tài sản cố định  ...  2541628920\n",
              "1                         Phân bổ lợi thế thương mại  ...           0\n",
              "2  Dự phòng giảm giá các khoản đầu tư ngắn hạn, d...  ...           0\n",
              "3  Lãi, lỗ chênh lệch tỷ giá hối đoái chưa thực hiện  ...      259809\n",
              "4               Lãi/(lỗ) từ thanh lý tài sản cố định  ...           0\n",
              "\n",
              "[5 rows x 11 columns]"
            ]
          },
          "metadata": {},
          "execution_count": 6
        }
      ]
    },
    {
      "cell_type": "markdown",
      "metadata": {
        "id": "zWw7BMEIgKHo"
      },
      "source": [
        "#Industry analysis"
      ]
    },
    {
      "cell_type": "code",
      "metadata": {
        "id": "NegK-ywhta8X"
      },
      "source": [
        "# Get industry list from vietstock\n",
        "r = requests.get('https://finance.vietstock.vn/chi-so-nganh.htm',headers=headers)\n",
        "soup = bs(r.content)\n",
        "def Getsectorname():\n",
        "  sectors = soup.select('a[href^=\"/nganh\"]')\n",
        "  all_sector = []\n",
        "  for i in sectors:\n",
        "    sector_name = i.get('title')\n",
        "    if sector_name not in all_sector:\n",
        "      all_sector.append(sector_name)\n",
        "  return all_sector"
      ],
      "execution_count": 9,
      "outputs": []
    },
    {
      "cell_type": "code",
      "metadata": {
        "colab": {
          "base_uri": "https://localhost:8080/"
        },
        "id": "HMGw-nagtl85",
        "outputId": "4a369930-cc35-490b-8856-c8f4d26df6dd"
      },
      "source": [
        "Getsectorname()"
      ],
      "execution_count": 10,
      "outputs": [
        {
          "output_type": "execute_result",
          "data": {
            "text/plain": [
              "['Bán buôn',\n",
              " 'Bảo hiểm',\n",
              " 'Bất động sản',\n",
              " 'Chứng khoán',\n",
              " 'Công nghệ và thông tin',\n",
              " 'Bán lẻ',\n",
              " 'Chăm sóc sức khỏe',\n",
              " 'Khai khoáng',\n",
              " 'Ngân hàng',\n",
              " 'Nông - Lâm - Ngư',\n",
              " 'SX Thiết bị, máy móc',\n",
              " 'SX Hàng gia dụng',\n",
              " 'Sản phẩm cao su',\n",
              " 'SX Nhựa - Hóa chất',\n",
              " 'Thực phẩm - Đồ uống',\n",
              " 'Chế biến Thủy sản',\n",
              " 'Vật liệu xây dựng',\n",
              " 'Tiện ích',\n",
              " 'Vận tải - kho bãi',\n",
              " 'Xây dựng',\n",
              " 'Dịch vụ lưu trú, ăn uống, giải trí',\n",
              " 'SX Phụ trợ',\n",
              " 'Thiết bị điện',\n",
              " 'Dịch vụ tư vấn, hỗ trợ',\n",
              " 'Tài chính khác']"
            ]
          },
          "metadata": {},
          "execution_count": 10
        }
      ]
    },
    {
      "cell_type": "code",
      "metadata": {
        "id": "Lbhw5ilmNXoF"
      },
      "source": [
        "def GetURL():\n",
        "    sectors = soup.select('a[href^=\"/nganh\"]')\n",
        "    all_sector_URL = []\n",
        "    for sector in sectors:\n",
        "        sector_ID = sector.get('href')\n",
        "        sector_URL = 'https://finance.vietstock.vn' + sector_ID\n",
        "        if sector_URL not in all_sector_URL:\n",
        "            all_sector_URL.append(sector_URL)\n",
        "    return all_sector_URL"
      ],
      "execution_count": 11,
      "outputs": []
    },
    {
      "cell_type": "code",
      "metadata": {
        "colab": {
          "base_uri": "https://localhost:8080/"
        },
        "id": "iJNS9ZmoZKy7",
        "outputId": "c5c7c152-27f0-47d1-8384-d9586b5b6598"
      },
      "source": [
        "url = GetURL()\n",
        "url"
      ],
      "execution_count": 17,
      "outputs": [
        {
          "output_type": "execute_result",
          "data": {
            "text/plain": [
              "['https://finance.vietstock.vn/nganh/1-ban-buon.htm',\n",
              " 'https://finance.vietstock.vn/nganh/2-bao-hiem.htm',\n",
              " 'https://finance.vietstock.vn/nganh/3-bat-dong-san.htm',\n",
              " 'https://finance.vietstock.vn/nganh/5-chung-khoan.htm',\n",
              " 'https://finance.vietstock.vn/nganh/6-cong-nghe-va-thong-tin.htm',\n",
              " 'https://finance.vietstock.vn/nganh/7-ban-le.htm',\n",
              " 'https://finance.vietstock.vn/nganh/8-cham-soc-suc-khoe.htm',\n",
              " 'https://finance.vietstock.vn/nganh/10-khai-khoang.htm',\n",
              " 'https://finance.vietstock.vn/nganh/11-ngan-hang.htm',\n",
              " 'https://finance.vietstock.vn/nganh/12-nong-lam-ngu.htm',\n",
              " 'https://finance.vietstock.vn/nganh/15-sx-thiet-bi-may-moc.htm',\n",
              " 'https://finance.vietstock.vn/nganh/16-sx-hang-gia-dung.htm',\n",
              " 'https://finance.vietstock.vn/nganh/17-san-pham-cao-su.htm',\n",
              " 'https://finance.vietstock.vn/nganh/18-sx-nhua-hoa-chat.htm',\n",
              " 'https://finance.vietstock.vn/nganh/19-thuc-pham-do-uong.htm',\n",
              " 'https://finance.vietstock.vn/nganh/20-che-bien-thuy-san.htm',\n",
              " 'https://finance.vietstock.vn/nganh/21-vat-lieu-xay-dung.htm',\n",
              " 'https://finance.vietstock.vn/nganh/22-tien-ich.htm',\n",
              " 'https://finance.vietstock.vn/nganh/23-van-tai-kho-bai.htm',\n",
              " 'https://finance.vietstock.vn/nganh/24-xay-dung.htm',\n",
              " 'https://finance.vietstock.vn/nganh/25-dich-vu-luu-tru-an-uong-giai-tri.htm',\n",
              " 'https://finance.vietstock.vn/nganh/26-sx-phu-tro.htm',\n",
              " 'https://finance.vietstock.vn/nganh/27-thiet-bi-dien.htm',\n",
              " 'https://finance.vietstock.vn/nganh/28-dich-vu-tu-van-ho-tro.htm',\n",
              " 'https://finance.vietstock.vn/nganh/29-tai-chinh-khac.htm']"
            ]
          },
          "metadata": {},
          "execution_count": 17
        }
      ]
    },
    {
      "cell_type": "code",
      "metadata": {
        "colab": {
          "base_uri": "https://localhost:8080/",
          "height": 204
        },
        "id": "VaP3Zb8Wvtkn",
        "outputId": "c8723de0-80b5-44c9-d150-3d04d44689aa"
      },
      "source": [
        "full_stock =[]\n",
        "for i in url:\n",
        "  industry = pd.read_html(requests.get(i,headers=headers).text)\n",
        "  industry = pd.DataFrame(industry[1])\n",
        "  full_stock.append(industry)\n",
        "symbols = pd.concat(full_stock, axis=0, ignore_index=True)\n",
        "symbols = symbols.drop(columns=['STT','Sàn','KLCPLH','Giá 1 ngày'])\n",
        "symbols.tail()"
      ],
      "execution_count": 27,
      "outputs": [
        {
          "output_type": "execute_result",
          "data": {
            "text/html": [
              "<div>\n",
              "<style scoped>\n",
              "    .dataframe tbody tr th:only-of-type {\n",
              "        vertical-align: middle;\n",
              "    }\n",
              "\n",
              "    .dataframe tbody tr th {\n",
              "        vertical-align: top;\n",
              "    }\n",
              "\n",
              "    .dataframe thead th {\n",
              "        text-align: right;\n",
              "    }\n",
              "</style>\n",
              "<table border=\"1\" class=\"dataframe\">\n",
              "  <thead>\n",
              "    <tr style=\"text-align: right;\">\n",
              "      <th></th>\n",
              "      <th>Mã CK</th>\n",
              "      <th>Ngành cấp 3</th>\n",
              "      <th>Giá 5 ngày</th>\n",
              "    </tr>\n",
              "  </thead>\n",
              "  <tbody>\n",
              "    <tr>\n",
              "      <th>735</th>\n",
              "      <td>VCM</td>\n",
              "      <td>Dịch vụ việc làm</td>\n",
              "      <td>15300</td>\n",
              "    </tr>\n",
              "    <tr>\n",
              "      <th>736</th>\n",
              "      <td>VLA</td>\n",
              "      <td>Dịch vụ lập trình máy tính</td>\n",
              "      <td>17000</td>\n",
              "    </tr>\n",
              "    <tr>\n",
              "      <th>737</th>\n",
              "      <td>VNC</td>\n",
              "      <td>Các dịch vụ chuyên môn, khoa học và kỹ thuật khác</td>\n",
              "      <td>32100</td>\n",
              "    </tr>\n",
              "    <tr>\n",
              "      <th>738</th>\n",
              "      <td>OGC</td>\n",
              "      <td>Các hoạt động đầu tư tài chính khác</td>\n",
              "      <td>6800</td>\n",
              "    </tr>\n",
              "    <tr>\n",
              "      <th>739</th>\n",
              "      <td>TVC</td>\n",
              "      <td>Các hoạt động đầu tư tài chính khác</td>\n",
              "      <td>17000</td>\n",
              "    </tr>\n",
              "  </tbody>\n",
              "</table>\n",
              "</div>"
            ],
            "text/plain": [
              "    Mã CK                                        Ngành cấp 3  Giá 5 ngày\n",
              "735   VCM                                   Dịch vụ việc làm       15300\n",
              "736   VLA                         Dịch vụ lập trình máy tính       17000\n",
              "737   VNC  Các dịch vụ chuyên môn, khoa học và kỹ thuật khác       32100\n",
              "738   OGC                Các hoạt động đầu tư tài chính khác        6800\n",
              "739   TVC                Các hoạt động đầu tư tài chính khác       17000"
            ]
          },
          "metadata": {},
          "execution_count": 27
        }
      ]
    },
    {
      "cell_type": "code",
      "metadata": {
        "colab": {
          "base_uri": "https://localhost:8080/"
        },
        "id": "6SC6n8bFFNF4",
        "outputId": "8466318f-dec8-4405-a277-95f4a900b29e"
      },
      "source": [
        "symbols['Ngành cấp 3']"
      ],
      "execution_count": 77,
      "outputs": [
        {
          "output_type": "execute_result",
          "data": {
            "text/plain": [
              "0              Bán buôn quần áo, vải và vật tư liên quan\n",
              "1      Bán buôn thực phẩm, tạp hóa và các sản phẩm có...\n",
              "2                   Bán buôn dầu và các sản phẩm dầu khí\n",
              "3      Bán buôn các thiết bị, vật tư chuyên môn và th...\n",
              "4                   Bán buôn máy móc, thiết bị và vật tư\n",
              "                             ...                        \n",
              "735                                     Dịch vụ việc làm\n",
              "736                           Dịch vụ lập trình máy tính\n",
              "737    Các dịch vụ chuyên môn, khoa học và kỹ thuật khác\n",
              "738                  Các hoạt động đầu tư tài chính khác\n",
              "739                  Các hoạt động đầu tư tài chính khác\n",
              "Name: Ngành cấp 3, Length: 740, dtype: object"
            ]
          },
          "metadata": {},
          "execution_count": 77
        }
      ]
    },
    {
      "cell_type": "code",
      "metadata": {
        "colab": {
          "base_uri": "https://localhost:8080/",
          "height": 35
        },
        "id": "7YbqbUW8yj8W",
        "outputId": "68b330bc-cbd5-40c9-82ad-5c2a3861c843"
      },
      "source": [
        "stock = 'VIC'\n",
        "industry = symbols.loc[symbols['Mã CK'] == stock, 'Ngành cấp 3'].to_string(index=False).strip()\n",
        "industry"
      ],
      "execution_count": 83,
      "outputs": [
        {
          "output_type": "execute_result",
          "data": {
            "application/vnd.google.colaboratory.intrinsic+json": {
              "type": "string"
            },
            "text/plain": [
              "'Phát triển bất động sản'"
            ]
          },
          "metadata": {},
          "execution_count": 83
        }
      ]
    },
    {
      "cell_type": "code",
      "metadata": {
        "id": "_E7z4nQfSUoR"
      },
      "source": [
        "symbols.loc[symbols['Ngành cấp 3'] == industry]"
      ],
      "execution_count": null,
      "outputs": []
    }
  ]
}