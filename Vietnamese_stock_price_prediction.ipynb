{
  "nbformat": 4,
  "nbformat_minor": 0,
  "metadata": {
    "colab": {
      "name": "Vietnamese stock price prediction.ipynb",
      "provenance": [],
      "collapsed_sections": [],
      "authorship_tag": "ABX9TyOu0RZlLlTZy2uuY6/w+xK2",
      "include_colab_link": true
    },
    "kernelspec": {
      "name": "python3",
      "display_name": "Python 3"
    },
    "language_info": {
      "name": "python"
    }
  },
  "cells": [
    {
      "cell_type": "markdown",
      "metadata": {
        "id": "view-in-github",
        "colab_type": "text"
      },
      "source": [
        "<a href=\"https://colab.research.google.com/github/linhvien/Stock-analysis/blob/main/Vietnamese_stock_price_prediction.ipynb\" target=\"_parent\"><img src=\"https://colab.research.google.com/assets/colab-badge.svg\" alt=\"Open In Colab\"/></a>"
      ]
    },
    {
      "cell_type": "code",
      "metadata": {
        "id": "UXnuOL17fWqW"
      },
      "source": [
        "from bs4 import BeautifulSoup\n",
        "import requests\n",
        "import pandas as pd\n",
        "import logging as logging\n",
        "import re\n",
        "import requests\n",
        "import time\n",
        "import numpy as np\n",
        "import matplotlib.pyplot as plt\n",
        "from datetime import datetime\n",
        "import math"
      ],
      "execution_count": 40,
      "outputs": []
    },
    {
      "cell_type": "code",
      "metadata": {
        "id": "DRwJsawKiB3V"
      },
      "source": [
        "start_date = '2015-01-01'\n",
        "end_date = str(datetime.now().strftime('%Y-%m-%d'))\n",
        "stock = 'VNM'\n",
        "logging.basicConfig(format='%(asctime)s : %(levelname)s : %(message)s', level=logging.INFO)\n",
        "URL_CAFE = \"http://s.cafef.vn/Lich-su-giao-dich-\"\n",
        "headers = {'User-Agent': 'Mozilla/5.0 (Windows NT 10.0; Win64; x64) AppleWebKit/537.36 (KHTML, like Gecko) Chrome/71.0.3578.98 Safari/537.36'}"
      ],
      "execution_count": 44,
      "outputs": []
    },
    {
      "cell_type": "code",
      "metadata": {
        "id": "q8RchQ0fYAQs"
      },
      "source": [
        "def convert_date(text, date_type = '%Y-%m-%d'):\n",
        "  return datetime.strptime(text, date_type)\n",
        "  \n",
        "def convert_text_dateformat(text, origin_type = '%Y-%m-%d', new_type = '%Y-%m-%d'):\n",
        "  return convert_date(text, origin_type).strftime(new_type)\n",
        "\n",
        "\n",
        "class DataLoadProto():\n",
        "    def __init__(self, symbols, start, end, *arg, **karg):\n",
        "        self.symbols = symbols\n",
        "        self.start = convert_text_dateformat(start, new_type = '%d/%m/%Y')\n",
        "        self.end = convert_text_dateformat(end, new_type = '%d/%m/%Y')\n",
        "\n",
        "class DataLoaderCAFE(DataLoadProto):\n",
        "    def __init__(self, symbols, start, end, *arg, **karg):\n",
        "        self.symbols = symbols\n",
        "        self.start = start\n",
        "        self.end = end\n",
        "        super(DataLoaderCAFE, self).__init__(symbols, start, end)\n",
        "\n",
        "    def download(self):\n",
        "        stock_datas = []\n",
        "        if not isinstance(self.symbols, list):\n",
        "            symbols = [self.symbols]\n",
        "        else:\n",
        "            symbols = self.symbols\n",
        "\n",
        "        for symbol in symbols:\n",
        "            stock_datas.append(self.download_one(symbol))\n",
        "\n",
        "        data = pd.concat(stock_datas, axis=1)\n",
        "        return data\n",
        "\n",
        "    def download_one(self, symbol):\n",
        "        stock_data = pd.DataFrame(columns=['date', 'close',\n",
        "                                           'adjust'])\n",
        "\n",
        "        for i in range(1000):\n",
        "            stock_slice_batch = self.download_batch(i + 1, symbol)\n",
        "            stock_data = pd.concat([stock_data, stock_slice_batch], axis=0)\n",
        "            try:\n",
        "                date_end_batch = stock_slice_batch.date.values[-1]\n",
        "            except:\n",
        "                # start date is holiday or weekend\n",
        "                break\n",
        "            is_touch_end = convert_date(self.start, '%d/%m/%Y') == convert_date(date_end_batch, '%d/%m/%Y')\n",
        "            # logging.info('batch: {}; start date out range: {}; date_end_batch: {}'.format(i + 1, is_touch_end, date_end_batch))\n",
        "            if is_touch_end:\n",
        "                break\n",
        "\n",
        "        stock_data = stock_data.set_index('date').apply(pd.to_numeric, errors='coerce')\n",
        "        stock_data.index = list(map(lambda text: convert_date(text, date_type='%d/%m/%Y'), stock_data.index))\n",
        "        stock_data.index.name = 'date'\n",
        "        stock_data = stock_data.sort_index()\n",
        "        stock_data.fillna(0, inplace=True)\n",
        "\n",
        "        logging.info('data {} from {} to {} have already cloned!' \\\n",
        "                     .format(symbol,\n",
        "                             convert_text_dateformat(self.start, origin_type = '%d/%m/%Y', new_type = '%Y-%m-%d'),\n",
        "                             convert_text_dateformat(self.end, origin_type='%d/%m/%Y', new_type='%Y-%m-%d')))\n",
        "\n",
        "        return stock_data\n",
        "\n",
        "    def download_batch(self, id_batch, symbol):\n",
        "        form_data = {'ctl00$ContentPlaceHolder1$scriptmanager':'ctl00$ContentPlaceHolder1$ctl03$panelAjax|ctl00$ContentPlaceHolder1$ctl03$pager2',\n",
        "                       'ctl00$ContentPlaceHolder1$ctl03$txtKeyword':symbol,\n",
        "                       'ctl00$ContentPlaceHolder1$ctl03$dpkTradeDate1$txtDatePicker':self.start,\n",
        "                       'ctl00$ContentPlaceHolder1$ctl03$dpkTradeDate2$txtDatePicker':self.end,\n",
        "                       '__EVENTTARGET':'ctl00$ContentPlaceHolder1$ctl03$pager2',\n",
        "                       '__EVENTARGUMENT':id_batch,\n",
        "                       '__ASYNCPOST':'true'}\n",
        "        url = URL_CAFE+symbol+\"-1.chn\"\n",
        "        r = requests.post(url, data = form_data, headers = headers, verify=False)\n",
        "        soup = BeautifulSoup(r.content, 'html.parser')\n",
        "        \n",
        "        table = soup.find('table')\n",
        "        stock_slice_batch = pd.read_html(str(table))[0].iloc[2:, :3]\n",
        "        #print(stock_slice_batch)\n",
        "        stock_slice_batch.columns = ['date', 'adjust', 'close']\n",
        "\n",
        "        return stock_slice_batch\n"
      ],
      "execution_count": 32,
      "outputs": []
    },
    {
      "cell_type": "code",
      "metadata": {
        "colab": {
          "base_uri": "https://localhost:8080/",
          "height": 252
        },
        "id": "BEJqZfV4iVMN",
        "outputId": "ea961ff1-4bd6-4bb2-ea99-0dfb0c716024"
      },
      "source": [
        "df = DataLoaderCAFE(stock,start_date,end_date).download()\n",
        "df.head()"
      ],
      "execution_count": 45,
      "outputs": [
        {
          "output_type": "stream",
          "name": "stderr",
          "text": [
            "2021-09-26 17:53:45,554 : INFO : data VNM from 2015-01-01 to 2021-09-26 have already cloned!\n"
          ]
        },
        {
          "output_type": "execute_result",
          "data": {
            "text/html": [
              "<div>\n",
              "<style scoped>\n",
              "    .dataframe tbody tr th:only-of-type {\n",
              "        vertical-align: middle;\n",
              "    }\n",
              "\n",
              "    .dataframe tbody tr th {\n",
              "        vertical-align: top;\n",
              "    }\n",
              "\n",
              "    .dataframe thead th {\n",
              "        text-align: right;\n",
              "    }\n",
              "</style>\n",
              "<table border=\"1\" class=\"dataframe\">\n",
              "  <thead>\n",
              "    <tr style=\"text-align: right;\">\n",
              "      <th></th>\n",
              "      <th>close</th>\n",
              "      <th>adjust</th>\n",
              "    </tr>\n",
              "    <tr>\n",
              "      <th>date</th>\n",
              "      <th></th>\n",
              "      <th></th>\n",
              "    </tr>\n",
              "  </thead>\n",
              "  <tbody>\n",
              "    <tr>\n",
              "      <th>2015-01-05</th>\n",
              "      <td>96.0</td>\n",
              "      <td>35.14</td>\n",
              "    </tr>\n",
              "    <tr>\n",
              "      <th>2015-01-06</th>\n",
              "      <td>96.0</td>\n",
              "      <td>35.14</td>\n",
              "    </tr>\n",
              "    <tr>\n",
              "      <th>2015-01-07</th>\n",
              "      <td>98.0</td>\n",
              "      <td>35.87</td>\n",
              "    </tr>\n",
              "    <tr>\n",
              "      <th>2015-01-08</th>\n",
              "      <td>98.5</td>\n",
              "      <td>36.05</td>\n",
              "    </tr>\n",
              "    <tr>\n",
              "      <th>2015-01-09</th>\n",
              "      <td>103.0</td>\n",
              "      <td>37.70</td>\n",
              "    </tr>\n",
              "  </tbody>\n",
              "</table>\n",
              "</div>"
            ],
            "text/plain": [
              "            close  adjust\n",
              "date                     \n",
              "2015-01-05   96.0   35.14\n",
              "2015-01-06   96.0   35.14\n",
              "2015-01-07   98.0   35.87\n",
              "2015-01-08   98.5   36.05\n",
              "2015-01-09  103.0   37.70"
            ]
          },
          "metadata": {},
          "execution_count": 45
        }
      ]
    },
    {
      "cell_type": "code",
      "metadata": {
        "colab": {
          "base_uri": "https://localhost:8080/"
        },
        "id": "M6FaJ3mxO2vm",
        "outputId": "638d608a-ac8d-4b4b-a177-feda678acfa3"
      },
      "source": [
        "df.shape"
      ],
      "execution_count": 46,
      "outputs": [
        {
          "output_type": "execute_result",
          "data": {
            "text/plain": [
              "(1679, 2)"
            ]
          },
          "metadata": {},
          "execution_count": 46
        }
      ]
    },
    {
      "cell_type": "code",
      "metadata": {
        "colab": {
          "base_uri": "https://localhost:8080/",
          "height": 513
        },
        "id": "KcPbxGRLLfTz",
        "outputId": "0ec32d70-311e-4944-e4b2-f16925629611"
      },
      "source": [
        "#Visualize the closing price history\n",
        "plt.figure(figsize=(16,8))\n",
        "plt.title('Close Price History VNM')\n",
        "plt.plot(df['close'])\n",
        "plt.xlabel('date')\n",
        "plt.show()"
      ],
      "execution_count": 39,
      "outputs": [
        {
          "output_type": "display_data",
          "data": {
            "image/png": "[encoded data removed]",
            "text/plain": [
              "<Figure size 1152x576 with 1 Axes>"
            ]
          },
          "metadata": {
            "needs_background": "light"
          }
        }
      ]
    },
    {
      "cell_type": "code",
      "metadata": {
        "id": "Y9mhItRJMW6_"
      },
      "source": [
        "#Create a new dataframe with only Close column\n",
        "data = df.filter(['close'])\n",
        "#Convert the dataframe to a numpy array\n",
        "dataset = data.values\n",
        "#Get 80% the number of rows to train the model on\n",
        "training_data_len = math.ceil(len(dataset)*.8)\n",
        "#Scale the data\n"
      ],
      "execution_count": null,
      "outputs": []
    }
  ]
}